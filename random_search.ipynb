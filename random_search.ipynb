{
 "cells": [
  {
   "cell_type": "code",
   "execution_count": 1,
   "metadata": {},
   "outputs": [],
   "source": [
    "import numpy as np \n",
    "from matplotlib import pyplot as plt\n",
    "import pandas as pd\n",
    "from sklearn.linear_model import LogisticRegression\n",
    "from sklearn.model_selection import train_test_split, RandomizedSearchCV\n",
    "from sklearn.metrics import classification_report, confusion_matrix, precision_recall_curve\n",
    "import scipy.stats as st"
   ]
  },
  {
   "cell_type": "code",
   "execution_count": 2,
   "metadata": {},
   "outputs": [],
   "source": [
    "# sand only\n",
    "sand_good = pd.read_csv('data/mined-data/sand-change-(good)/sand-only/all.dat', sep=\",\")\n",
    "sand_08 = pd.read_csv('data/mined-data/new/08-10-2020-1/all.dat', sep=\",\")\n",
    "sand_121 = pd.read_csv('data/mined-data/new/12-10-2020-1/all.dat', sep=\",\")\n",
    "sand_122 = pd.read_csv('data/mined-data/new/12-10-2020-2/all.dat', sep=\",\")\n",
    "sand_231 = pd.read_csv('data/mined-data/new/23-10-2020-1/all.dat', sep=\",\")\n",
    "\n",
    "# buried\n",
    "buried_good = pd.read_csv('data/mined-data/sand-change-(good)/buried/all.dat', sep=\",\")\n",
    "\n",
    "buried_082_near_1 = pd.read_csv('data/mined-data/new/08-10-2020-2/all.dat', sep=\",\")\n",
    "buried_083_10cm_2 = pd.read_csv('data/mined-data/new/08-10-2020-3/all.dat', sep=\",\")\n",
    "buried_084_10cm_3 = pd.read_csv('data/mined-data/new/08-10-2020-4/all.dat', sep=\",\")\n",
    "buried_085_18cm_4 = pd.read_csv('data/mined-data/new/08-10-2020-5/all.dat', sep=\",\")\n",
    "buried_086_8cm_4 = pd.read_csv('data/mined-data/new/08-10-2020-6/all.dat', sep=\",\")\n",
    "\n",
    "buried_123_7cm_1 = pd.read_csv('data/mined-data/new/12-10-2020-3/all.dat', sep=\",\")\n",
    "buried_124_7cm_1 = pd.read_csv('data/mined-data/new/12-10-2020-4/all.dat', sep=\",\")\n",
    "buried_125_7cm_3 = pd.read_csv('data/mined-data/new/12-10-2020-5/all.dat', sep=\",\")\n",
    "\n",
    "buried_161_up_1 = pd.read_csv('data/mined-data/new/16-10-2020-1/all.dat', sep=\",\")\n",
    "buried_162_up_1 = pd.read_csv('data/mined-data/new/16-10-2020-2/all.dat', sep=\",\")\n",
    "buried_163_down_1 = pd.read_csv('data/mined-data/new/16-10-2020-3/all.dat', sep=\",\")\n",
    "buried_164_down_1 = pd.read_csv('data/mined-data/new/16-10-2020-4/all.dat', sep=\",\")\n",
    "\n",
    "buried_211_down_1 = pd.read_csv('data/mined-data/new/21-10-2020-1/all.dat', sep=\",\")\n",
    "buried_212_down_1 = pd.read_csv('data/mined-data/new/21-10-2020-2/all.dat', sep=\",\")\n",
    "buried_213_up_1 = pd.read_csv('data/mined-data/new/21-10-2020-3/all.dat', sep=\",\")\n",
    "buried_214_up_1 = pd.read_csv('data/mined-data/new/21-10-2020-4/all.dat', sep=\",\")"
   ]
  },
  {
   "cell_type": "code",
   "execution_count": 3,
   "metadata": {},
   "outputs": [],
   "source": [
    "sand_all = [sand_good, sand_08, sand_121, sand_122, sand_231]\n",
    "buried_all = [buried_good, buried_211_down_1, buried_212_down_1, buried_213_up_1, buried_214_up_1]"
   ]
  },
  {
   "cell_type": "code",
   "execution_count": 4,
   "metadata": {},
   "outputs": [
    {
     "name": "stdout",
     "output_type": "stream",
     "text": [
      "sand: 16484\n",
      "buried: 15404\n"
     ]
    }
   ],
   "source": [
    "sand = np.concatenate(tuple(sand_all))\n",
    "buried = np.concatenate(tuple(buried_all))\n",
    "print('sand:', len(sand))\n",
    "print('buried:', len(buried))"
   ]
  },
  {
   "cell_type": "code",
   "execution_count": 5,
   "metadata": {},
   "outputs": [],
   "source": [
    "X = np.concatenate((sand, buried))\n",
    "Y = [0] * len(sand) + [1] * len(buried)"
   ]
  },
  {
   "cell_type": "code",
   "execution_count": 6,
   "metadata": {},
   "outputs": [
    {
     "data": {
      "image/png": "[encoded data removed]",
      "text/plain": [
       "<Figure size 432x288 with 1 Axes>"
      ]
     },
     "metadata": {
      "needs_background": "light"
     },
     "output_type": "display_data"
    }
   ],
   "source": [
    "exp_rvs = st.uniform(0, 200).rvs(size=500)\n",
    "uni_rvs = st.expon.rvs(size=200)\n",
    "\n",
    "rvs = np.concatenate((exp_rvs, uni_rvs))\n",
    "plt.hist(rvs, bins=100)\n",
    "plt.show()"
   ]
  },
  {
   "cell_type": "code",
   "execution_count": 7,
   "metadata": {},
   "outputs": [],
   "source": [
    "# create random parameters\n",
    "parameters = {\n",
    "    'penalty': ['l1', 'l2'],\n",
    "    'C': rvs,\n",
    "    'class_weight': [None, 'balanced'],\n",
    "    'solver': ['liblinear', 'saga'],\n",
    "    'max_iter': 100 + np.random.rand(100) * 200\n",
    "}"
   ]
  },
  {
   "cell_type": "code",
   "execution_count": 8,
   "metadata": {},
   "outputs": [],
   "source": [
    "random_model = RandomizedSearchCV(estimator=LogisticRegression(random_state=68),\n",
    "                                  random_state=68,\n",
    "                                  param_distributions=parameters,\n",
    "                                  cv=5,\n",
    "                                  scoring='accuracy',\n",
    "                                  verbose=10,\n",
    "                                  n_jobs=4,\n",
    "                                  n_iter=200)"
   ]
  },
  {
   "cell_type": "code",
   "execution_count": 9,
   "metadata": {},
   "outputs": [
    {
     "name": "stdout",
     "output_type": "stream",
     "text": [
      "Fitting 5 folds for each of 200 candidates, totalling 1000 fits\n"
     ]
    },
    {
     "name": "stderr",
     "output_type": "stream",
     "text": [
      "[Parallel(n_jobs=4)]: Using backend LokyBackend with 4 concurrent workers.\n",
      "[Parallel(n_jobs=4)]: Done   5 tasks      | elapsed:   16.7s\n",
      "[Parallel(n_jobs=4)]: Done  10 tasks      | elapsed: 14.5min\n",
      "[Parallel(n_jobs=4)]: Done  17 tasks      | elapsed: 34.7min\n",
      "[Parallel(n_jobs=4)]: Done  24 tasks      | elapsed: 35.7min\n",
      "[Parallel(n_jobs=4)]: Done  33 tasks      | elapsed: 36.9min\n",
      "[Parallel(n_jobs=4)]: Done  42 tasks      | elapsed: 39.4min\n",
      "[Parallel(n_jobs=4)]: Done  53 tasks      | elapsed: 48.3min\n",
      "[Parallel(n_jobs=4)]: Done  64 tasks      | elapsed: 61.1min\n",
      "[Parallel(n_jobs=4)]: Done  77 tasks      | elapsed: 65.3min\n",
      "[Parallel(n_jobs=4)]: Done  90 tasks      | elapsed: 69.7min\n",
      "[Parallel(n_jobs=4)]: Done 105 tasks      | elapsed: 85.0min\n",
      "[Parallel(n_jobs=4)]: Done 120 tasks      | elapsed: 87.8min\n",
      "[Parallel(n_jobs=4)]: Done 137 tasks      | elapsed: 90.6min\n",
      "[Parallel(n_jobs=4)]: Done 154 tasks      | elapsed: 106.6min\n",
      "[Parallel(n_jobs=4)]: Done 173 tasks      | elapsed: 120.9min\n",
      "[Parallel(n_jobs=4)]: Done 192 tasks      | elapsed: 125.9min\n",
      "[Parallel(n_jobs=4)]: Done 213 tasks      | elapsed: 140.9min\n",
      "[Parallel(n_jobs=4)]: Done 234 tasks      | elapsed: 157.0min\n",
      "[Parallel(n_jobs=4)]: Done 257 tasks      | elapsed: 163.1min\n",
      "[Parallel(n_jobs=4)]: Done 280 tasks      | elapsed: 188.7min\n",
      "[Parallel(n_jobs=4)]: Done 305 tasks      | elapsed: 204.6min\n",
      "[Parallel(n_jobs=4)]: Done 330 tasks      | elapsed: 210.0min\n",
      "[Parallel(n_jobs=4)]: Done 357 tasks      | elapsed: 224.3min\n",
      "[Parallel(n_jobs=4)]: Done 384 tasks      | elapsed: 226.6min\n",
      "[Parallel(n_jobs=4)]: Done 413 tasks      | elapsed: 259.7min\n",
      "[Parallel(n_jobs=4)]: Done 442 tasks      | elapsed: 290.0min\n",
      "[Parallel(n_jobs=4)]: Done 473 tasks      | elapsed: 295.2min\n",
      "[Parallel(n_jobs=4)]: Done 504 tasks      | elapsed: 299.9min\n",
      "[Parallel(n_jobs=4)]: Done 537 tasks      | elapsed: 314.4min\n",
      "[Parallel(n_jobs=4)]: Done 570 tasks      | elapsed: 320.7min\n",
      "[Parallel(n_jobs=4)]: Done 605 tasks      | elapsed: 338.9min\n",
      "[Parallel(n_jobs=4)]: Done 640 tasks      | elapsed: 361.7min\n",
      "[Parallel(n_jobs=4)]: Done 677 tasks      | elapsed: 367.5min\n",
      "[Parallel(n_jobs=4)]: Done 714 tasks      | elapsed: 386.0min\n",
      "[Parallel(n_jobs=4)]: Done 753 tasks      | elapsed: 397.3min\n",
      "[Parallel(n_jobs=4)]: Done 792 tasks      | elapsed: 407.4min\n",
      "[Parallel(n_jobs=4)]: Done 833 tasks      | elapsed: 426.0min\n",
      "[Parallel(n_jobs=4)]: Done 874 tasks      | elapsed: 440.6min\n",
      "[Parallel(n_jobs=4)]: Done 917 tasks      | elapsed: 460.4min\n",
      "[Parallel(n_jobs=4)]: Done 960 tasks      | elapsed: 478.3min\n",
      "[Parallel(n_jobs=4)]: Done 1000 out of 1000 | elapsed: 517.7min finished\n"
     ]
    },
    {
     "data": {
      "text/plain": [
       "RandomizedSearchCV(cv=5, estimator=LogisticRegression(random_state=68),\n",
       "                   n_iter=200, n_jobs=4,\n",
       "                   param_distributions={'C': array([1.21731124e+02, 1.91128310e+02, 4.82953978e+01, 5.22910477e+01,\n",
       "       1.88138757e+02, 1.99195516e+01, 8.53103994e+01, 1.51868045e+02,\n",
       "       1.18089913e+02, 1.79242982e+02, 1.70792338e+02, 4.71257310e+01,\n",
       "       1.67872844e+02, 1.90761818e+02, 1.94752143e+02, 2.2...\n",
       "       113.54629492, 229.93467543, 110.69031159, 114.60182156,\n",
       "       265.36477324, 248.87170495, 288.24383667, 185.56352225,\n",
       "       161.5975337 , 147.88437401, 278.91265693, 143.0434733 ,\n",
       "       159.56573045, 298.62437636, 218.29554632, 258.17397001,\n",
       "       113.25644367, 255.22893939, 288.9185483 , 234.80511968]),\n",
       "                                        'penalty': ['l1', 'l2'],\n",
       "                                        'solver': ['liblinear', 'saga']},\n",
       "                   random_state=68, scoring='accuracy', verbose=10)"
      ]
     },
     "execution_count": 9,
     "metadata": {},
     "output_type": "execute_result"
    }
   ],
   "source": [
    "random_model.fit(X, Y)"
   ]
  },
  {
   "cell_type": "code",
   "execution_count": 10,
   "metadata": {
    "scrolled": true
   },
   "outputs": [
    {
     "data": {
      "text/plain": [
       "{'solver': 'liblinear',\n",
       " 'penalty': 'l1',\n",
       " 'max_iter': 201.41742907853478,\n",
       " 'class_weight': None,\n",
       " 'C': 183.97024333430912}"
      ]
     },
     "execution_count": 10,
     "metadata": {},
     "output_type": "execute_result"
    }
   ],
   "source": [
    "random_model.best_params_"
   ]
  },
  {
   "cell_type": "code",
   "execution_count": 27,
   "metadata": {},
   "outputs": [
    {
     "data": {
      "text/plain": [
       "0.8075727863928522"
      ]
     },
     "execution_count": 27,
     "metadata": {},
     "output_type": "execute_result"
    }
   ],
   "source": [
    "random_model.best_score_"
   ]
  },
  {
   "cell_type": "code",
   "execution_count": 28,
   "metadata": {
    "scrolled": false
   },
   "outputs": [
    {
     "data": {
      "text/plain": [
       "88"
      ]
     },
     "execution_count": 28,
     "metadata": {},
     "output_type": "execute_result"
    }
   ],
   "source": [
    "random_model.best_index_"
   ]
  },
  {
   "cell_type": "code",
   "execution_count": 34,
   "metadata": {},
   "outputs": [
    {
     "data": {
      "text/plain": [
       "'13.198676399389903 minutes'"
      ]
     },
     "execution_count": 34,
     "metadata": {},
     "output_type": "execute_result"
    }
   ],
   "source": [
    "str(random_model.refit_time_/60) + \" minutes\""
   ]
  },
  {
   "cell_type": "code",
   "execution_count": 51,
   "metadata": {},
   "outputs": [
    {
     "name": "stdout",
     "output_type": "stream",
     "text": [
      "0.0722521137586472\n",
      "0.006246096189881324\n",
      "0.27651304830649637\n",
      "0.22514466070489217\n",
      "0.0149812734082397\n",
      "0.315230961298377\n",
      "0.49441504997060554\n",
      "0.30031347962382443\n",
      "0.919080919080919\n",
      "0.8137044967880086\n",
      "0.8763440860215054\n",
      "0.8551448551448552\n"
     ]
    }
   ],
   "source": [
    "print(random_model.score(buried_082_near_1, [1] * len(buried_082_near_1))) #\n",
    "print(random_model.score(buried_083_10cm_2, [1] * len(buried_083_10cm_2))) #\n",
    "print(random_model.score(buried_084_10cm_3, [1] * len(buried_084_10cm_3))) #\n",
    "print(random_model.score(buried_085_18cm_4, [1] * len(buried_085_18cm_4))) #\n",
    "print(random_model.score(buried_086_8cm_4, [1] * len(buried_086_8cm_4))) #\n",
    "print(random_model.score(buried_123_7cm_1, [1] * len(buried_123_7cm_1))) #\n",
    "print(random_model.score(buried_124_7cm_1, [1] * len(buried_124_7cm_1))) #\n",
    "print(random_model.score(buried_125_7cm_3, [1] * len(buried_125_7cm_3))) #\n",
    "print(random_model.score(buried_161_up_1, [1] * len(buried_161_up_1)))\n",
    "print(random_model.score(buried_162_up_1, [1] * len(buried_162_up_1)))\n",
    "print(random_model.score(buried_163_down_1, [1] * len(buried_163_down_1)))\n",
    "print(random_model.score(buried_164_down_1, [1] * len(buried_164_down_1)))"
   ]
  }
 ],
 "metadata": {
  "kernelspec": {
   "display_name": "Python 3",
   "language": "python",
   "name": "python3"
  },
  "language_info": {
   "codemirror_mode": {
    "name": "ipython",
    "version": 3
   },
   "file_extension": ".py",
   "mimetype": "text/x-python",
   "name": "python",
   "nbconvert_exporter": "python",
   "pygments_lexer": "ipython3",
   "version": "3.7.4"
  }
 },
 "nbformat": 4,
 "nbformat_minor": 4
}
